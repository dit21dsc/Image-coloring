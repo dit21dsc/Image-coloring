{
  "cells": [
    {
      "cell_type": "markdown",
      "metadata": {
        "id": "view-in-github",
        "colab_type": "text"
      },
      "source": [
        "<a href=\"https://colab.research.google.com/github/dit21dsc/Image-coloring/blob/main/Main.ipynb\" target=\"_parent\"><img src=\"https://colab.research.google.com/assets/colab-badge.svg\" alt=\"Open In Colab\"/></a>"
      ]
    },
    {
      "cell_type": "code",
      "source": [
        "from google.colab import drive\n",
        "drive.mount('/content/drive')"
      ],
      "metadata": {
        "colab": {
          "base_uri": "https://localhost:8080/"
        },
        "id": "FXrwfJVt8t6g",
        "outputId": "f41f9482-be89-48a1-c25a-93d552030dad"
      },
      "execution_count": 1,
      "outputs": [
        {
          "output_type": "stream",
          "name": "stdout",
          "text": [
            "Drive already mounted at /content/drive; to attempt to forcibly remount, call drive.mount(\"/content/drive\", force_remount=True).\n"
          ]
        }
      ]
    },
    {
      "cell_type": "code",
      "source": [
        "\n",
        "import keras\n",
        "from tensorflow.keras.utils  import array_to_img, img_to_array, load_img\n",
        "from keras.applications.inception_resnet_v2 import preprocess_input\n",
        "from keras.models import Sequential, Model\n",
        "import numpy as np\n",
        "import tensorflow as tf\n",
        "import cv2\n",
        "import matplotlib.pyplot as plt\n",
        "#OPTIMIZER\n",
        "from tensorflow.keras.optimizers import RMSprop\n",
        "import random"
      ],
      "metadata": {
        "id": "wR0n8S5S9K-4"
      },
      "execution_count": 2,
      "outputs": []
    },
    {
      "cell_type": "code",
      "source": [
        "from keras.layers import Conv2D,BatchNormalization , ReLU , Conv2DTranspose"
      ],
      "metadata": {
        "id": "F2eFkrkB9ln3"
      },
      "execution_count": 3,
      "outputs": []
    },
    {
      "cell_type": "code",
      "source": [
        "Gray_NPY = np.load(\"/content/drive/MyDrive/gray_scale.npy\")\n",
        "AB_1_NPY = np.load(\"/content/drive/MyDrive/ab1.npy\")\n",
        "AB_2_NPY = np.load(\"/content/drive/MyDrive/ab2.npy\")\n",
        "AB_3_NPY = np.load(\"/content/drive/MyDrive/ab3.npy\")\n",
        "AB_NPY = np.concatenate([AB_1_NPY, AB_2_NPY, AB_3_NPY], axis=0)\n",
        "\n"
      ],
      "metadata": {
        "id": "a4AfM8uI9zLk"
      },
      "execution_count": 4,
      "outputs": []
    },
    {
      "cell_type": "code",
      "source": [
        "print(type(Gray_NPY))\n",
        "print(type(AB_NPY))"
      ],
      "metadata": {
        "colab": {
          "base_uri": "https://localhost:8080/"
        },
        "id": "1HCj2bBc9870",
        "outputId": "03524963-50ac-42a4-85bc-0de2fadf7c65"
      },
      "execution_count": 5,
      "outputs": [
        {
          "output_type": "stream",
          "name": "stdout",
          "text": [
            "<class 'numpy.ndarray'>\n",
            "<class 'numpy.ndarray'>\n"
          ]
        }
      ]
    },
    {
      "cell_type": "code",
      "source": [
        "print(Gray_NPY.shape)\n",
        "print(AB_NPY.shape)"
      ],
      "metadata": {
        "colab": {
          "base_uri": "https://localhost:8080/"
        },
        "id": "sF_QSFmR99hf",
        "outputId": "bf316685-ff6a-4dc9-d071-e24cf566c0c8"
      },
      "execution_count": 6,
      "outputs": [
        {
          "output_type": "stream",
          "name": "stdout",
          "text": [
            "(25000, 224, 224)\n",
            "(25000, 224, 224, 2)\n"
          ]
        }
      ]
    },
    {
      "cell_type": "code",
      "source": [
        "start_split = 2000\n",
        "end_split = 2500\n",
        "end_non_seen= 3000\n",
        "dataset_count = 500"
      ],
      "metadata": {
        "id": "ece1iBlt-ADA"
      },
      "execution_count": 7,
      "outputs": []
    },
    {
      "cell_type": "code",
      "source": [
        "X_Train = Gray_NPY[start_split:end_split,:,:].astype(\"float32\").reshape(dataset_count,Gray_NPY.shape[1],Gray_NPY.shape[2])"
      ],
      "metadata": {
        "id": "aVYGEZzw-EGl"
      },
      "execution_count": 8,
      "outputs": []
    },
    {
      "cell_type": "code",
      "source": [
        "X_Non_Seen = Gray_NPY[end_split:end_non_seen,:,:].astype(\"float32\").reshape(dataset_count,Gray_NPY.shape[1],Gray_NPY.shape[2])"
      ],
      "metadata": {
        "id": "IPQvkD9Q-GMx"
      },
      "execution_count": null,
      "outputs": []
    },
    {
      "cell_type": "code",
      "source": [
        "Y_Train = AB_NPY[start_split:end_split,:,:].astype(\"float32\")"
      ],
      "metadata": {
        "id": "q0lyXRzo-ILr"
      },
      "execution_count": null,
      "outputs": []
    },
    {
      "cell_type": "code",
      "source": [
        "print(X_Train.shape)\n",
        "print(X_Non_Seen.shape)\n",
        "print(Y_Train.shape)"
      ],
      "metadata": {
        "id": "Qv9cjEHf-KLn"
      },
      "execution_count": null,
      "outputs": []
    },
    {
      "cell_type": "code",
      "source": [
        "def line_image(gray_images,splitting_count=dataset_count,preprocess_function=preprocess_input):\n",
        "    Zeros_Imp = np.zeros((splitting_count,224,224,3))\n",
        "    for indexing in range(0,3):\n",
        "        Zeros_Imp[:splitting_count,:,:,indexing] = gray_images[:splitting_count]\n",
        "        \n",
        "    return preprocess_function(Zeros_Imp)"
      ],
      "metadata": {
        "id": "MXfLy7IL-L5i"
      },
      "execution_count": null,
      "outputs": []
    },
    {
      "cell_type": "code",
      "source": [
        "Input_Images = line_image(X_Train,dataset_count)\n",
        "\n",
        "Non_Seen_Input = line_image(X_Non_Seen,dataset_count)\n",
        "\n"
      ],
      "metadata": {
        "id": "_3ZS06vB-NnU"
      },
      "execution_count": null,
      "outputs": []
    },
    {
      "cell_type": "code",
      "source": [
        "print(Input_Images.shape)\n",
        "print(Non_Seen_Input.shape)"
      ],
      "metadata": {
        "id": "tqDSuz2s-Pa5"
      },
      "execution_count": null,
      "outputs": []
    },
    {
      "cell_type": "code",
      "source": [
        "def from_lab_to_rgb(gray_images,ab_images,n=10):\n",
        "    Zeros_Imp = np.zeros((n,224,224,3))\n",
        "    \n",
        "    Zeros_Imp[:,:,:,0] = gray_images[0:n:]\n",
        "    Zeros_Imp[:,:,:,1:] = ab_images[0:n:]\n",
        "    \n",
        "    Zeros_Imp = Zeros_Imp.astype(\"uint8\")\n",
        "    \n",
        "    Main_Img = []\n",
        "    \n",
        "    for indexing in range(0,n):\n",
        "        Main_Img.append(cv2.cvtColor(Zeros_Imp[indexing],cv2.COLOR_LAB2RGB))\n",
        "        \n",
        "    Main_Img = np.array(Main_Img)\n",
        "    \n",
        "    return Main_Img"
      ],
      "metadata": {
        "id": "sU7n7YY5-Rcz"
      },
      "execution_count": null,
      "outputs": []
    },
    {
      "cell_type": "code",
      "source": [
        "Output_Images = preprocess_input(from_lab_to_rgb(X_Train,Y_Train,n=dataset_count))\n",
        "\n",
        "print(Output_Images.shape)"
      ],
      "metadata": {
        "id": "VckwcgDA-Uro"
      },
      "execution_count": null,
      "outputs": []
    },
    {
      "cell_type": "code",
      "source": [
        "Gray_Zeros_Imp = np.zeros((dataset_count,Gray_NPY.shape[1],Gray_NPY.shape[2],1))\n",
        "Gray_Zeros_Imp[:,:,:,0] = X_Train\n",
        "print(Gray_Zeros_Imp.shape)"
      ],
      "metadata": {
        "id": "uKtNn_Qo-WuG"
      },
      "execution_count": null,
      "outputs": []
    },
    {
      "cell_type": "code",
      "source": [
        "compile_loss = \"mse\"\n",
        "compile_optimizer = RMSprop(learning_rate=0.0001,decay=1e-8)\n",
        "compile_metrics = [\"accuracy\"]\n",
        "input_dim = (Input_Images.shape[1],Input_Images.shape[2],Input_Images.shape[3])\n",
        "output_class = 1"
      ],
      "metadata": {
        "id": "4pe6UzqR-ZMt"
      },
      "execution_count": null,
      "outputs": []
    },
    {
      "cell_type": "code",
      "source": [
        "Early_Stopper = tf.keras.callbacks.EarlyStopping(monitor=\"loss\",patience=3,mode=\"min\")\n",
        "Checkpoint_Model = tf.keras.callbacks.ModelCheckpoint(monitor=\"val_accuracy\",\n",
        "                                                      save_best_only=True,\n",
        "                                                      save_weights_only=True,\n",
        "                                                      filepath=\"./modelcheck\")"
      ],
      "metadata": {
        "id": "9cYCNvq2-avY"
      },
      "execution_count": null,
      "outputs": []
    },
    {
      "cell_type": "code",
      "source": [
        "Encoder_G = Sequential()\n",
        "Encoder_G.add(Conv2D(32,(2,2),kernel_initializer = 'he_normal',padding = \"same\",use_bias = True))\n",
        "Encoder_G.add(BatchNormalization())\n",
        "Encoder_G.add(ReLU())"
      ],
      "metadata": {
        "id": "jKZ3BDNp-cyG"
      },
      "execution_count": null,
      "outputs": []
    },
    {
      "cell_type": "code",
      "source": [
        "Encoder_G.add(Conv2D(64,(2,2),kernel_initializer = 'he_normal',padding = \"same\",use_bias = True))\n",
        "Encoder_G.add(BatchNormalization())\n",
        "Encoder_G.add(ReLU())\n",
        "#"
      ],
      "metadata": {
        "id": "ekipuEu6-e1H"
      },
      "execution_count": null,
      "outputs": []
    },
    {
      "cell_type": "code",
      "source": [
        "Encoder_G.add(Conv2D(128,(2,2),kernel_initializer = 'he_normal',padding = \"same\",use_bias = True))\n",
        "Encoder_G.add(BatchNormalization())\n",
        "Encoder_G.add(ReLU())\n"
      ],
      "metadata": {
        "id": "UA6xR-2H-gwq"
      },
      "execution_count": null,
      "outputs": []
    },
    {
      "cell_type": "code",
      "source": [
        "\n",
        "Encoder_G.add(Conv2D(256,(2,2),kernel_initializer = 'he_normal',padding = \"same\",use_bias = True))\n",
        "Encoder_G.add(BatchNormalization())\n",
        "Encoder_G.add(ReLU())"
      ],
      "metadata": {
        "id": "B7QkpT10-kdw"
      },
      "execution_count": null,
      "outputs": []
    },
    {
      "cell_type": "code",
      "source": [
        "Decoder_G = Sequential()\n",
        "Decoder_G.add(Conv2DTranspose(128,(2,2),padding = \"same\",use_bias = True))\n",
        "Decoder_G.add(ReLU())\n",
        "#"
      ],
      "metadata": {
        "id": "JYP5R2px-nrn"
      },
      "execution_count": null,
      "outputs": []
    },
    {
      "cell_type": "code",
      "source": [
        "Decoder_G.add(Conv2DTranspose(64,(2,2),padding = \"same\",use_bias = True))\n",
        "Decoder_G.add(ReLU())\n",
        "#"
      ],
      "metadata": {
        "id": "vEgDzoKc-oGl"
      },
      "execution_count": null,
      "outputs": []
    },
    {
      "cell_type": "code",
      "source": [
        "Decoder_G.add(Conv2DTranspose(32,(2,2),padding = \"same\",use_bias = True))\n",
        "Decoder_G.add(ReLU())\n",
        "#"
      ],
      "metadata": {
        "id": "yzUHRatl-pz9"
      },
      "execution_count": null,
      "outputs": []
    },
    {
      "cell_type": "code",
      "source": [
        "Decoder_G.add(Conv2DTranspose(3,(2,2),padding = \"same\",use_bias = True))\n",
        "Decoder_G.add(ReLU())"
      ],
      "metadata": {
        "id": "ABX0KpTt-tZd"
      },
      "execution_count": null,
      "outputs": []
    },
    {
      "cell_type": "code",
      "source": [
        "Auto_Encoder = Sequential([Encoder_G,Decoder_G])\n",
        "Auto_Encoder.compile(loss=compile_loss,optimizer=compile_optimizer,metrics=compile_metrics)\n",
        "Auto_Encoder_Model = Auto_Encoder.fit(Input_Images,Output_Images,epochs=25,callbacks=[Early_Stopper,Checkpoint_Model],batch_size=8)"
      ],
      "metadata": {
        "id": "-TN0HOnA-t9E"
      },
      "execution_count": null,
      "outputs": []
    },
    {
      "cell_type": "code",
      "source": [
        "#PREDICTION\n",
        "\n",
        "Prediction_IMG = Auto_Encoder.predict(Input_Images[:100])\n",
        "\n",
        "Prediction_Non_Seen = Auto_Encoder.predict(Non_Seen_Input[:100])\n",
        "\n",
        "print(Prediction_IMG[5].shape)\n",
        "print(Prediction_Non_Seen[5].shape)"
      ],
      "metadata": {
        "id": "W3utWZs1RioD"
      },
      "execution_count": null,
      "outputs": []
    },
    {
      "cell_type": "code",
      "source": [
        "figure,axis = plt.subplots(1,2,figsize=(20,20))\n",
        "prediction_img_number = random.random.randint(0,100)\n",
        "\n",
        "Original_Img = Input_Images[prediction_img_number]\n",
        "Predict_Image_AE = Prediction_IMG[prediction_img_number]\n",
        "axis[0].imshow(Original_Img)\n",
        "axis[0].set_xlabel(Original_Img.shape)\n",
        "axis[0].set_ylabel(Original_Img.size)\n",
        "axis[0].set_title(\"INPUT\")\n",
        "axis[1].imshow(Predict_Image_AE)\n",
        "axis[1].set_xlabel(Predict_Image_AE.shape)\n",
        "axis[1].set_ylabel(Predict_Image_AE.size)\n",
        "axis[1].set_title(\"AUTO ENCODER OUTPUT\")\n",
        "\n",
        "#Text(0.5, 1.0, 'AUTO ENCODER OUTPUT')"
      ],
      "metadata": {
        "id": "LhMQE5zpRpti"
      },
      "execution_count": null,
      "outputs": []
    }
  ],
  "metadata": {
    "colab": {
      "collapsed_sections": [],
      "name": "Main",
      "provenance": [],
      "include_colab_link": true
    },
    "kernelspec": {
      "display_name": "Python 3",
      "name": "python3"
    },
    "accelerator": "GPU"
  },
  "nbformat": 4,
  "nbformat_minor": 0
}