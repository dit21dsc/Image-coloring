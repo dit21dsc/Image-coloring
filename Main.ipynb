{
  "cells": [
    {
      "cell_type": "markdown",
      "metadata": {
        "id": "view-in-github",
        "colab_type": "text"
      },
      "source": [
        "<a href=\"https://colab.research.google.com/github/dit21dsc/Image-coloring/blob/main/Main.ipynb\" target=\"_parent\"><img src=\"https://colab.research.google.com/assets/colab-badge.svg\" alt=\"Open In Colab\"/></a>"
      ]
    },
    {
      "cell_type": "code",
      "source": [
        "from google.colab import drive\n",
        "drive.mount('/content/drive')"
      ],
      "metadata": {
        "colab": {
          "base_uri": "https://localhost:8080/"
        },
        "id": "FXrwfJVt8t6g",
        "outputId": "3c437719-a12e-4b76-b850-f017fca2124c"
      },
      "execution_count": 1,
      "outputs": [
        {
          "output_type": "stream",
          "name": "stdout",
          "text": [
            "Mounted at /content/drive\n"
          ]
        }
      ]
    },
    {
      "cell_type": "code",
      "source": [
        "import keras\n",
        "from keras.applications.inception_resnet_v2 import InceptionResNetV2\n",
        "from keras.preprocessing import image \n",
        "from tensorflow.keras.utils  import array_to_img, img_to_array, load_img\n",
        "from keras.applications.inception_resnet_v2 import preprocess_input\n",
        "from keras.layers import Conv2D, UpSampling2D, InputLayer, Conv2DTranspose, Input, Reshape,  concatenate\n",
        "from keras.layers import Activation, Dense, Dropout, Flatten\n",
        "from keras.callbacks import TensorBoard \n",
        "from keras.models import Sequential, Model\n",
        "from keras.layers.core import RepeatVector, Permute\n",
        "from keras.preprocessing.image import ImageDataGenerator\n",
        "from skimage.color import rgb2lab, lab2rgb, rgb2gray, gray2rgb\n",
        "from skimage.transform import resize\n",
        "from skimage.io import imsave\n",
        "import numpy as np\n",
        "import os\n",
        "import random\n",
        "import tensorflow as tf\n",
        "import cv2\n",
        "#OPTIMIZER\n",
        "from tensorflow.keras.optimizers import RMSprop,Adam,Optimizer,Optimizer, SGD"
      ],
      "metadata": {
        "id": "wR0n8S5S9K-4"
      },
      "execution_count": 2,
      "outputs": []
    },
    {
      "cell_type": "code",
      "source": [
        "from keras.layers import Dense, Dropout, Flatten, Conv2D, MaxPool2D, BatchNormalization,MaxPooling2D,BatchNormalization,\\\n",
        "                        Permute, TimeDistributed, Bidirectional,GRU, SimpleRNN, LSTM, GlobalAveragePooling2D, SeparableConv2D,\\\n",
        "ZeroPadding2D, Convolution2D, ZeroPadding2D, Conv2DTranspose,ReLU, UpSampling2D, Concatenate, Conv2DTranspose"
      ],
      "metadata": {
        "id": "F2eFkrkB9ln3"
      },
      "execution_count": 3,
      "outputs": []
    },
    {
      "cell_type": "code",
      "source": [
        "Gray_NPY = np.load(\"/content/drive/MyDrive/gray_scale.npy\")\n",
        "AB_1_NPY = np.load(\"/content/drive/MyDrive/ab1.npy\")"
      ],
      "metadata": {
        "id": "a4AfM8uI9zLk"
      },
      "execution_count": 4,
      "outputs": []
    },
    {
      "cell_type": "code",
      "source": [
        "print(type(Gray_NPY))\n",
        "print(type(AB_1_NPY))"
      ],
      "metadata": {
        "colab": {
          "base_uri": "https://localhost:8080/"
        },
        "id": "1HCj2bBc9870",
        "outputId": "70602b43-ac0f-4373-e62a-810d65b612df"
      },
      "execution_count": 5,
      "outputs": [
        {
          "output_type": "stream",
          "name": "stdout",
          "text": [
            "<class 'numpy.ndarray'>\n",
            "<class 'numpy.ndarray'>\n"
          ]
        }
      ]
    },
    {
      "cell_type": "code",
      "source": [
        "print(Gray_NPY.shape)\n",
        "print(AB_1_NPY.shape)"
      ],
      "metadata": {
        "colab": {
          "base_uri": "https://localhost:8080/"
        },
        "id": "sF_QSFmR99hf",
        "outputId": "e57de3e0-98c8-4483-92ab-acf73df55a97"
      },
      "execution_count": 7,
      "outputs": [
        {
          "output_type": "stream",
          "name": "stdout",
          "text": [
            "(25000, 224, 224)\n",
            "(10000, 224, 224, 2)\n"
          ]
        }
      ]
    },
    {
      "cell_type": "code",
      "source": [
        "splitting_count = 300\n",
        "end_splitting_count = 600"
      ],
      "metadata": {
        "id": "ece1iBlt-ADA"
      },
      "execution_count": 8,
      "outputs": []
    },
    {
      "cell_type": "code",
      "source": [
        "X_Train = Gray_NPY[:splitting_count,:,:].astype(\"float32\").reshape(splitting_count,\n",
        "                                                                  Gray_NPY.shape[1],\n",
        "                                                                   Gray_NPY.shape[2])"
      ],
      "metadata": {
        "id": "aVYGEZzw-EGl"
      },
      "execution_count": 9,
      "outputs": []
    },
    {
      "cell_type": "code",
      "source": [
        "X_Non_Seen = Gray_NPY[splitting_count:end_splitting_count,:,:].astype(\"float32\").reshape(splitting_count,\n",
        "                                                                  Gray_NPY.shape[1],\n",
        "                                                                   Gray_NPY.shape[2])"
      ],
      "metadata": {
        "id": "IPQvkD9Q-GMx"
      },
      "execution_count": 10,
      "outputs": []
    },
    {
      "cell_type": "code",
      "source": [
        "Y_Train = AB_1_NPY[:splitting_count,:,:].astype(\"float32\")"
      ],
      "metadata": {
        "id": "q0lyXRzo-ILr"
      },
      "execution_count": 11,
      "outputs": []
    },
    {
      "cell_type": "code",
      "source": [
        "print(X_Train.shape)\n",
        "print(X_Non_Seen.shape)\n",
        "print(Y_Train.shape)"
      ],
      "metadata": {
        "colab": {
          "base_uri": "https://localhost:8080/"
        },
        "id": "Qv9cjEHf-KLn",
        "outputId": "642dc665-25bd-4c28-eaec-3805ca0cb44e"
      },
      "execution_count": 12,
      "outputs": [
        {
          "output_type": "stream",
          "name": "stdout",
          "text": [
            "(300, 224, 224)\n",
            "(300, 224, 224)\n",
            "(300, 224, 224, 2)\n"
          ]
        }
      ]
    },
    {
      "cell_type": "code",
      "source": [
        "def line_image(gray_images,splitting_count=splitting_count,preprocess_function=preprocess_input):\n",
        "    Zeros_Imp = np.zeros((splitting_count,224,224,3))\n",
        "    for indexing in range(0,3):\n",
        "        Zeros_Imp[:splitting_count,:,:,indexing] = gray_images[:splitting_count]\n",
        "        \n",
        "    return preprocess_function(Zeros_Imp)"
      ],
      "metadata": {
        "id": "MXfLy7IL-L5i"
      },
      "execution_count": 13,
      "outputs": []
    },
    {
      "cell_type": "code",
      "source": [
        "Input_Images = line_image(X_Train,splitting_count)\n",
        "\n",
        "Non_Seen_Input = line_image(X_Non_Seen,splitting_count)\n",
        "\n"
      ],
      "metadata": {
        "id": "_3ZS06vB-NnU"
      },
      "execution_count": 14,
      "outputs": []
    },
    {
      "cell_type": "code",
      "source": [
        "print(Input_Images.shape)\n",
        "print(Non_Seen_Input.shape)"
      ],
      "metadata": {
        "colab": {
          "base_uri": "https://localhost:8080/"
        },
        "id": "tqDSuz2s-Pa5",
        "outputId": "90eab47a-fb1d-4a7b-ff07-380a5e2412e5"
      },
      "execution_count": 15,
      "outputs": [
        {
          "output_type": "stream",
          "name": "stdout",
          "text": [
            "(300, 224, 224, 3)\n",
            "(300, 224, 224, 3)\n"
          ]
        }
      ]
    },
    {
      "cell_type": "code",
      "source": [
        "def from_lab_to_rgb(gray_images,ab_images,n=10):\n",
        "    Zeros_Imp = np.zeros((n,224,224,3))\n",
        "    \n",
        "    Zeros_Imp[:,:,:,0] = gray_images[0:n:]\n",
        "    Zeros_Imp[:,:,:,1:] = ab_images[0:n:]\n",
        "    \n",
        "    Zeros_Imp = Zeros_Imp.astype(\"uint8\")\n",
        "    \n",
        "    Main_Img = []\n",
        "    \n",
        "    for indexing in range(0,n):\n",
        "        Main_Img.append(cv2.cvtColor(Zeros_Imp[indexing],cv2.COLOR_LAB2RGB))\n",
        "        \n",
        "    Main_Img = np.array(Main_Img)\n",
        "    \n",
        "    return Main_Img"
      ],
      "metadata": {
        "id": "sU7n7YY5-Rcz"
      },
      "execution_count": 16,
      "outputs": []
    },
    {
      "cell_type": "code",
      "source": [
        "Output_Images = preprocess_input(from_lab_to_rgb(X_Train,Y_Train,n=splitting_count))\n",
        "\n",
        "print(Output_Images.shape)"
      ],
      "metadata": {
        "colab": {
          "base_uri": "https://localhost:8080/"
        },
        "id": "VckwcgDA-Uro",
        "outputId": "2b2da1ba-b0b0-4b44-d698-0703dba3fd68"
      },
      "execution_count": 17,
      "outputs": [
        {
          "output_type": "stream",
          "name": "stdout",
          "text": [
            "(300, 224, 224, 3)\n"
          ]
        }
      ]
    },
    {
      "cell_type": "code",
      "source": [
        "Gray_Zeros_Imp = np.zeros((splitting_count,Gray_NPY.shape[1],Gray_NPY.shape[2],1))\n",
        "Gray_Zeros_Imp[:,:,:,0] = X_Train\n",
        "print(Gray_Zeros_Imp.shape)"
      ],
      "metadata": {
        "colab": {
          "base_uri": "https://localhost:8080/"
        },
        "id": "uKtNn_Qo-WuG",
        "outputId": "47a976fc-7679-4756-f2a1-8c3da51e31a4"
      },
      "execution_count": 18,
      "outputs": [
        {
          "output_type": "stream",
          "name": "stdout",
          "text": [
            "(300, 224, 224, 1)\n"
          ]
        }
      ]
    },
    {
      "cell_type": "code",
      "source": [
        "compile_loss = \"mse\"\n",
        "compile_optimizer = RMSprop(learning_rate=0.0001,decay=1e-8)\n",
        "compile_metrics = [\"accuracy\"]\n",
        "input_dim = (Input_Images.shape[1],Input_Images.shape[2],Input_Images.shape[3])\n",
        "output_class = 1"
      ],
      "metadata": {
        "id": "4pe6UzqR-ZMt"
      },
      "execution_count": 19,
      "outputs": []
    },
    {
      "cell_type": "code",
      "source": [
        ""
      ],
      "metadata": {
        "id": "E51KR5Rp-jDH"
      },
      "execution_count": null,
      "outputs": []
    },
    {
      "cell_type": "code",
      "source": [
        "Early_Stopper = tf.keras.callbacks.EarlyStopping(monitor=\"loss\",patience=3,mode=\"min\")\n",
        "Checkpoint_Model = tf.keras.callbacks.ModelCheckpoint(monitor=\"val_accuracy\",\n",
        "                                                      save_best_only=True,\n",
        "                                                      save_weights_only=True,\n",
        "                                                      filepath=\"./modelcheck\")"
      ],
      "metadata": {
        "id": "9cYCNvq2-avY"
      },
      "execution_count": 20,
      "outputs": []
    },
    {
      "cell_type": "code",
      "source": [
        "Encoder_G = Sequential()\n",
        "Encoder_G.add(Conv2D(32,(2,2),kernel_initializer = 'he_normal',padding = \"same\",use_bias = True))\n",
        "Encoder_G.add(BatchNormalization())\n",
        "Encoder_G.add(ReLU())"
      ],
      "metadata": {
        "id": "jKZ3BDNp-cyG"
      },
      "execution_count": 21,
      "outputs": []
    },
    {
      "cell_type": "code",
      "source": [
        "Encoder_G.add(Conv2D(64,(2,2),kernel_initializer = 'he_normal',padding = \"same\",use_bias = True))\n",
        "Encoder_G.add(BatchNormalization())\n",
        "Encoder_G.add(ReLU())\n",
        "#"
      ],
      "metadata": {
        "id": "ekipuEu6-e1H"
      },
      "execution_count": 22,
      "outputs": []
    },
    {
      "cell_type": "code",
      "source": [
        "Encoder_G.add(Conv2D(128,(2,2),kernel_initializer = 'he_normal',padding = \"same\",use_bias = True))\n",
        "Encoder_G.add(BatchNormalization())\n",
        "Encoder_G.add(ReLU())\n"
      ],
      "metadata": {
        "id": "UA6xR-2H-gwq"
      },
      "execution_count": 23,
      "outputs": []
    },
    {
      "cell_type": "code",
      "source": [
        "\n",
        "Encoder_G.add(Conv2D(256,(2,2),kernel_initializer = 'he_normal',padding = \"same\",use_bias = True))\n",
        "Encoder_G.add(BatchNormalization())\n",
        "Encoder_G.add(ReLU())"
      ],
      "metadata": {
        "id": "B7QkpT10-kdw"
      },
      "execution_count": 24,
      "outputs": []
    },
    {
      "cell_type": "code",
      "source": [
        "Decoder_G = Sequential()\n",
        "Decoder_G.add(Conv2DTranspose(128,(2,2),padding = \"same\",use_bias = True))\n",
        "Decoder_G.add(ReLU())\n",
        "#"
      ],
      "metadata": {
        "id": "JYP5R2px-nrn"
      },
      "execution_count": 25,
      "outputs": []
    },
    {
      "cell_type": "code",
      "source": [
        "Decoder_G.add(Conv2DTranspose(64,(2,2),padding = \"same\",use_bias = True))\n",
        "Decoder_G.add(ReLU())\n",
        "#"
      ],
      "metadata": {
        "id": "vEgDzoKc-oGl"
      },
      "execution_count": 26,
      "outputs": []
    },
    {
      "cell_type": "code",
      "source": [
        "Decoder_G.add(Conv2DTranspose(32,(2,2),padding = \"same\",use_bias = True))\n",
        "Decoder_G.add(ReLU())\n",
        "#"
      ],
      "metadata": {
        "id": "yzUHRatl-pz9"
      },
      "execution_count": 27,
      "outputs": []
    },
    {
      "cell_type": "code",
      "source": [
        "Decoder_G.add(Conv2DTranspose(3,(2,2),padding = \"same\",use_bias = True))\n",
        "Decoder_G.add(ReLU())"
      ],
      "metadata": {
        "id": "ABX0KpTt-tZd"
      },
      "execution_count": 28,
      "outputs": []
    },
    {
      "cell_type": "code",
      "source": [
        "Auto_Encoder = Sequential([Encoder_G,Decoder_G])\n",
        "Auto_Encoder.compile(loss=compile_loss,optimizer=compile_optimizer,metrics=compile_metrics)\n",
        "Auto_Encoder_Model = Auto_Encoder.fit(Input_Images,Output_Images,epochs=25,callbacks=[Early_Stopper,Checkpoint_Model],batch_size=16)"
      ],
      "metadata": {
        "colab": {
          "base_uri": "https://localhost:8080/"
        },
        "id": "-TN0HOnA-t9E",
        "outputId": "02b6e03c-d622-4d70-c9e9-18e67861cac9"
      },
      "execution_count": null,
      "outputs": [
        {
          "output_type": "stream",
          "name": "stdout",
          "text": [
            "Epoch 1/25\n",
            "13/19 [===================>..........] - ETA: 3:30 - loss: 0.3940 - accuracy: 0.4980"
          ]
        }
      ]
    }
  ],
  "metadata": {
    "colab": {
      "collapsed_sections": [],
      "name": "Welcome To Colaboratory",
      "provenance": [],
      "include_colab_link": true
    },
    "kernelspec": {
      "display_name": "Python 3",
      "name": "python3"
    }
  },
  "nbformat": 4,
  "nbformat_minor": 0
}